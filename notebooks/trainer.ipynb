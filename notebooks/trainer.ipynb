{
 "cells": [
  {
   "cell_type": "code",
   "execution_count": null,
   "metadata": {},
   "outputs": [],
   "source": [
    "from torch import nn\n",
    "from torch.utils.data import Dataset, DataLoader\n",
    "from transformers import Trainer, TrainingArguments"
   ]
  },
  {
   "cell_type": "code",
   "execution_count": 4,
   "metadata": {},
   "outputs": [],
   "source": [
    "trainer_args = TrainingArguments(\n",
    "    output_dir=\"models/mDeBERTa-finetuned\",    # output directory\n",
    "    num_train_epochs=2,              # total number of training epochs\n",
    "    learning_rate=2e-05,\n",
    "    per_device_train_batch_size=3,   # batch size per device during training\n",
    "    per_device_eval_batch_size=3,    # batch size for evaluation\n",
    "    warmup_ratio=0.1,                # number of warmup steps for learning rate scheduler\n",
    "    weight_decay=0.06,               # strength of weight decay\n",
    ")"
   ]
  },
  {
   "cell_type": "code",
   "execution_count": null,
   "metadata": {},
   "outputs": [],
   "source": [
    "trainer = Trainer(\n",
    "    model=\"MoritzLaurer/mDeBERTa-v3-base-mnli-xnli\",\n",
    "    args=trainer_args,\n",
    ")"
   ]
  }
 ],
 "metadata": {
  "kernelspec": {
   "display_name": "venv",
   "language": "python",
   "name": "python3"
  },
  "language_info": {
   "codemirror_mode": {
    "name": "ipython",
    "version": 3
   },
   "file_extension": ".py",
   "mimetype": "text/x-python",
   "name": "python",
   "nbconvert_exporter": "python",
   "pygments_lexer": "ipython3",
   "version": "3.9.16 (main, Dec  7 2022, 01:11:58) \n[GCC 7.5.0]"
  },
  "orig_nbformat": 4,
  "vscode": {
   "interpreter": {
    "hash": "f96dea0ebdafa197f5aedddabb1bea429d3b0f4522770de9224a4846edf8913a"
   }
  }
 },
 "nbformat": 4,
 "nbformat_minor": 2
}

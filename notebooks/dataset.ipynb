{
 "cells": [
  {
   "cell_type": "code",
   "execution_count": 20,
   "metadata": {},
   "outputs": [],
   "source": [
    "import json\n",
    "from pathlib import Path\n",
    "from collections import Counter\n",
    "\n",
    "from tqdm import tqdm\n",
    "import pandas as pd\n",
    "from sklearn.model_selection import train_test_split\n",
    "import torch\n",
    "from torch.utils.data import Dataset, DataLoader\n",
    "from transformers import AutoTokenizer"
   ]
  },
  {
   "cell_type": "code",
   "execution_count": 21,
   "metadata": {},
   "outputs": [],
   "source": [
    "ROOT_DIR = Path.cwd().parent"
   ]
  },
  {
   "cell_type": "code",
   "execution_count": 22,
   "metadata": {},
   "outputs": [],
   "source": [
    "df_qiita = pd.read_json(ROOT_DIR / \"data/qiita.json\")\n",
    "df_zenn = pd.read_json(ROOT_DIR / \"data/zenn.json\")"
   ]
  },
  {
   "cell_type": "code",
   "execution_count": 23,
   "metadata": {},
   "outputs": [],
   "source": [
    "df_raw = pd.concat([df_qiita, df_zenn], axis=0)"
   ]
  },
  {
   "cell_type": "code",
   "execution_count": 24,
   "metadata": {},
   "outputs": [
    {
     "data": {
      "text/html": [
       "<div>\n",
       "<style scoped>\n",
       "    .dataframe tbody tr th:only-of-type {\n",
       "        vertical-align: middle;\n",
       "    }\n",
       "\n",
       "    .dataframe tbody tr th {\n",
       "        vertical-align: top;\n",
       "    }\n",
       "\n",
       "    .dataframe thead th {\n",
       "        text-align: right;\n",
       "    }\n",
       "</style>\n",
       "<table border=\"1\" class=\"dataframe\">\n",
       "  <thead>\n",
       "    <tr style=\"text-align: right;\">\n",
       "      <th></th>\n",
       "      <th>title</th>\n",
       "      <th>tags</th>\n",
       "      <th>cleansed_content</th>\n",
       "      <th>url</th>\n",
       "    </tr>\n",
       "  </thead>\n",
       "  <tbody>\n",
       "    <tr>\n",
       "      <th>401</th>\n",
       "      <td>Androidアプリエンジニアがよく見るサイトとチュートリアル</td>\n",
       "      <td>[Android, Androidアプリ]</td>\n",
       "      <td>Android アプリエンジニアがよく見るであろうサイトや、Android アプリ開発を勉強...</td>\n",
       "      <td>https://qiita.com/Nabe1216/items/792914ae6803c...</td>\n",
       "    </tr>\n",
       "    <tr>\n",
       "      <th>631</th>\n",
       "      <td>「相関係数よ、安らかに眠れ」～ 新たなスコアPPSの紹介</td>\n",
       "      <td>[Python, EDA, PPS]</td>\n",
       "      <td>### ～8080Labsが考案した新スコア「PPS」は、相関係数を凌駕できるだろうか？！...</td>\n",
       "      <td>https://qiita.com/hima2b4/items/2b500886512f14...</td>\n",
       "    </tr>\n",
       "    <tr>\n",
       "      <th>738</th>\n",
       "      <td>スケールする要求を支える仕様の「意図」と「直交性」</td>\n",
       "      <td>[DDD, 要件定義]</td>\n",
       "      <td># はじめに どんなソフトウェアエンジニアも拡張しやすくメンテナンスしやすいソフトウェアを...</td>\n",
       "      <td>https://qiita.com/hirokidaichi/items/61ad129ea...</td>\n",
       "    </tr>\n",
       "  </tbody>\n",
       "</table>\n",
       "</div>"
      ],
      "text/plain": [
       "                               title                   tags  \\\n",
       "401  Androidアプリエンジニアがよく見るサイトとチュートリアル  [Android, Androidアプリ]   \n",
       "631     「相関係数よ、安らかに眠れ」～ 新たなスコアPPSの紹介     [Python, EDA, PPS]   \n",
       "738        スケールする要求を支える仕様の「意図」と「直交性」            [DDD, 要件定義]   \n",
       "\n",
       "                                      cleansed_content  \\\n",
       "401  Android アプリエンジニアがよく見るであろうサイトや、Android アプリ開発を勉強...   \n",
       "631   ### ～8080Labsが考案した新スコア「PPS」は、相関係数を凌駕できるだろうか？！...   \n",
       "738   # はじめに どんなソフトウェアエンジニアも拡張しやすくメンテナンスしやすいソフトウェアを...   \n",
       "\n",
       "                                                   url  \n",
       "401  https://qiita.com/Nabe1216/items/792914ae6803c...  \n",
       "631  https://qiita.com/hima2b4/items/2b500886512f14...  \n",
       "738  https://qiita.com/hirokidaichi/items/61ad129ea...  "
      ]
     },
     "execution_count": 24,
     "metadata": {},
     "output_type": "execute_result"
    }
   ],
   "source": [
    "df_raw.sample(3)"
   ]
  },
  {
   "cell_type": "code",
   "execution_count": 25,
   "metadata": {},
   "outputs": [],
   "source": [
    "all_tags = []\n",
    "\n",
    "for tags in df_raw[\"tags\"]:\n",
    "    all_tags += tags"
   ]
  },
  {
   "cell_type": "code",
   "execution_count": 26,
   "metadata": {},
   "outputs": [
    {
     "data": {
      "text/plain": [
       "1616"
      ]
     },
     "execution_count": 26,
     "metadata": {},
     "output_type": "execute_result"
    }
   ],
   "source": [
    "len(set(all_tags))"
   ]
  },
  {
   "cell_type": "code",
   "execution_count": 27,
   "metadata": {},
   "outputs": [],
   "source": [
    "tag_counter = Counter(all_tags)"
   ]
  },
  {
   "cell_type": "code",
   "execution_count": 28,
   "metadata": {},
   "outputs": [],
   "source": [
    "categories_unique = [tag for tag, _ in tag_counter.most_common(300)]\n",
    "categories_ids = {tag: idx for idx, tag in enumerate(categories_unique)}"
   ]
  },
  {
   "cell_type": "code",
   "execution_count": 29,
   "metadata": {},
   "outputs": [],
   "source": [
    "df = pd.DataFrame(\n",
    "    columns=[\"title\", \"body\", \"categories\", \"category_ids\"],\n",
    ")\n",
    "idx = 0\n",
    "for row in df_raw.itertuples():\n",
    "    categories = []\n",
    "    for tag in row.tags:\n",
    "        if tag in categories_unique:\n",
    "            categories.append(tag)\n",
    "    df.at[row.Index, \"categories\"] = categories\n",
    "    df.at[row.Index, \"category_ids\"] = [categories_ids[tag] for tag in categories]\n",
    "    df.at[row.Index, \"title\"] = row.title\n",
    "    df.at[row.Index, \"body\"] = row.cleansed_content"
   ]
  },
  {
   "cell_type": "code",
   "execution_count": 30,
   "metadata": {},
   "outputs": [
    {
     "data": {
      "text/html": [
       "<div>\n",
       "<style scoped>\n",
       "    .dataframe tbody tr th:only-of-type {\n",
       "        vertical-align: middle;\n",
       "    }\n",
       "\n",
       "    .dataframe tbody tr th {\n",
       "        vertical-align: top;\n",
       "    }\n",
       "\n",
       "    .dataframe thead th {\n",
       "        text-align: right;\n",
       "    }\n",
       "</style>\n",
       "<table border=\"1\" class=\"dataframe\">\n",
       "  <thead>\n",
       "    <tr style=\"text-align: right;\">\n",
       "      <th></th>\n",
       "      <th>title</th>\n",
       "      <th>body</th>\n",
       "      <th>categories</th>\n",
       "      <th>category_ids</th>\n",
       "    </tr>\n",
       "  </thead>\n",
       "  <tbody>\n",
       "    <tr>\n",
       "      <th>406</th>\n",
       "      <td>開発プロセスはアウトカムの質を高めるためにつくられるべき</td>\n",
       "      <td>## メトリクスは指標であって方針ではない Four Keysとか指標として計測して観察する...</td>\n",
       "      <td>[スクラム, idea]</td>\n",
       "      <td>[108, 6]</td>\n",
       "    </tr>\n",
       "    <tr>\n",
       "      <th>180</th>\n",
       "      <td>Dagger Go SDK でポータブルな CI/CD パイプラインを構築する</td>\n",
       "      <td>CI/CD Advent Calendar 2022 の 20 日目の記事です。 &lt; 先日...</td>\n",
       "      <td>[Go, tech]</td>\n",
       "      <td>[23, 0]</td>\n",
       "    </tr>\n",
       "    <tr>\n",
       "      <th>681</th>\n",
       "      <td>良い質問をして自己成長に繋げるためのあれこれ</td>\n",
       "      <td># 質問に関することで悩む若手エンジニアは多い * 「ちゃんと調べてから質問した？」 * ...</td>\n",
       "      <td>[質問, コミュニケーション, 初心者]</td>\n",
       "      <td>[212, 71, 3]</td>\n",
       "    </tr>\n",
       "  </tbody>\n",
       "</table>\n",
       "</div>"
      ],
      "text/plain": [
       "                                       title  \\\n",
       "406             開発プロセスはアウトカムの質を高めるためにつくられるべき   \n",
       "180  Dagger Go SDK でポータブルな CI/CD パイプラインを構築する   \n",
       "681                   良い質問をして自己成長に繋げるためのあれこれ   \n",
       "\n",
       "                                                  body            categories  \\\n",
       "406  ## メトリクスは指標であって方針ではない Four Keysとか指標として計測して観察する...          [スクラム, idea]   \n",
       "180   CI/CD Advent Calendar 2022 の 20 日目の記事です。 < 先日...            [Go, tech]   \n",
       "681   # 質問に関することで悩む若手エンジニアは多い * 「ちゃんと調べてから質問した？」 * ...  [質問, コミュニケーション, 初心者]   \n",
       "\n",
       "     category_ids  \n",
       "406      [108, 6]  \n",
       "180       [23, 0]  \n",
       "681  [212, 71, 3]  "
      ]
     },
     "execution_count": 30,
     "metadata": {},
     "output_type": "execute_result"
    }
   ],
   "source": [
    "df.sample(3)"
   ]
  },
  {
   "cell_type": "code",
   "execution_count": 31,
   "metadata": {},
   "outputs": [],
   "source": [
    "train_df, eval_df = train_test_split(df, train_size=0.8)\n",
    "eval_df, test_df = train_test_split(eval_df, train_size=0.5)"
   ]
  },
  {
   "cell_type": "code",
   "execution_count": 13,
   "metadata": {},
   "outputs": [],
   "source": [
    "class ArticleDataset(Dataset):\n",
    "    def __init__(self, df):\n",
    "        self.features = [\n",
    "            {\"title\": row.title, \"category_ids\": row.category_ids}\n",
    "            for row in tqdm(df.itertuples(), total=df.shape[0])\n",
    "        ]\n",
    "\n",
    "    def __len__(self):\n",
    "        return len(self.features)\n",
    "\n",
    "    def __getitem__(self, idx):\n",
    "        return self.features[idx]"
   ]
  },
  {
   "cell_type": "code",
   "execution_count": 14,
   "metadata": {},
   "outputs": [
    {
     "name": "stderr",
     "output_type": "stream",
     "text": [
      "100%|██████████| 782/782 [00:00<00:00, 137316.66it/s]\n",
      "100%|██████████| 98/98 [00:00<00:00, 170982.44it/s]\n",
      "100%|██████████| 98/98 [00:00<00:00, 135926.52it/s]\n"
     ]
    }
   ],
   "source": [
    "train_dataset = ArticleDataset(train_df)\n",
    "eval_dataset = ArticleDataset(eval_df)\n",
    "test_dataset = ArticleDataset(test_df)"
   ]
  },
  {
   "cell_type": "code",
   "execution_count": 15,
   "metadata": {},
   "outputs": [],
   "source": [
    "class ArticleCollator:\n",
    "    def __init__(self, tokenizer, max_length=512):\n",
    "        self.tokenizer = tokenizer\n",
    "        self.max_length = max_length\n",
    "\n",
    "    def __call__(self, examples):\n",
    "        examples = {\n",
    "            \"title\": list(map(lambda x: x[\"title\"], examples)),\n",
    "            \"category_id\": list(map(lambda x: x[\"category_id\"], examples)),\n",
    "        }\n",
    "\n",
    "        encodings = self.tokenizer(\n",
    "            examples[\"title\"],\n",
    "            padding=True,\n",
    "            truncation=True,\n",
    "            max_length=self.max_length,\n",
    "            return_tensors=\"pt\",\n",
    "        )\n",
    "        encodings[\"category_id\"] = torch.tensor(examples[\"category_id\"])\n",
    "        return encodings"
   ]
  },
  {
   "cell_type": "code",
   "execution_count": 18,
   "metadata": {},
   "outputs": [],
   "source": [
    "tokenizer = AutoTokenizer.from_pretrained(\"MoritzLaurer/mDeBERTa-v3-base-mnli-xnli\")\n",
    "article_collator = ArticleCollator(tokenizer, max_length=20000)"
   ]
  },
  {
   "cell_type": "code",
   "execution_count": 19,
   "metadata": {},
   "outputs": [
    {
     "ename": "ValueError",
     "evalue": "expected sequence of length 4 at dim 1 (got 5)",
     "output_type": "error",
     "traceback": [
      "\u001b[0;31m---------------------------------------------------------------------------\u001b[0m",
      "\u001b[0;31mValueError\u001b[0m                                Traceback (most recent call last)",
      "Cell \u001b[0;32mIn[19], line 8\u001b[0m\n\u001b[1;32m      1\u001b[0m loader \u001b[39m=\u001b[39m DataLoader(\n\u001b[1;32m      2\u001b[0m     train_dataset, \n\u001b[1;32m      3\u001b[0m     collate_fn\u001b[39m=\u001b[39marticle_collator, \n\u001b[1;32m      4\u001b[0m     batch_size\u001b[39m=\u001b[39m\u001b[39m8\u001b[39m, \n\u001b[1;32m      5\u001b[0m     shuffle\u001b[39m=\u001b[39m\u001b[39mTrue\u001b[39;00m,\n\u001b[1;32m      6\u001b[0m )\n\u001b[0;32m----> 8\u001b[0m batch \u001b[39m=\u001b[39m \u001b[39mnext\u001b[39;49m(\u001b[39miter\u001b[39;49m(loader))\n\u001b[1;32m     10\u001b[0m \u001b[39mfor\u001b[39;00m k,v \u001b[39min\u001b[39;00m batch\u001b[39m.\u001b[39mitems():\n\u001b[1;32m     11\u001b[0m     \u001b[39mprint\u001b[39m(k, v\u001b[39m.\u001b[39mshape)\n",
      "File \u001b[0;32m/home/workspace/notion-auto-archive/venv/lib/python3.9/site-packages/torch/utils/data/dataloader.py:628\u001b[0m, in \u001b[0;36m_BaseDataLoaderIter.__next__\u001b[0;34m(self)\u001b[0m\n\u001b[1;32m    625\u001b[0m \u001b[39mif\u001b[39;00m \u001b[39mself\u001b[39m\u001b[39m.\u001b[39m_sampler_iter \u001b[39mis\u001b[39;00m \u001b[39mNone\u001b[39;00m:\n\u001b[1;32m    626\u001b[0m     \u001b[39m# TODO(https://github.com/pytorch/pytorch/issues/76750)\u001b[39;00m\n\u001b[1;32m    627\u001b[0m     \u001b[39mself\u001b[39m\u001b[39m.\u001b[39m_reset()  \u001b[39m# type: ignore[call-arg]\u001b[39;00m\n\u001b[0;32m--> 628\u001b[0m data \u001b[39m=\u001b[39m \u001b[39mself\u001b[39;49m\u001b[39m.\u001b[39;49m_next_data()\n\u001b[1;32m    629\u001b[0m \u001b[39mself\u001b[39m\u001b[39m.\u001b[39m_num_yielded \u001b[39m+\u001b[39m\u001b[39m=\u001b[39m \u001b[39m1\u001b[39m\n\u001b[1;32m    630\u001b[0m \u001b[39mif\u001b[39;00m \u001b[39mself\u001b[39m\u001b[39m.\u001b[39m_dataset_kind \u001b[39m==\u001b[39m _DatasetKind\u001b[39m.\u001b[39mIterable \u001b[39mand\u001b[39;00m \\\n\u001b[1;32m    631\u001b[0m         \u001b[39mself\u001b[39m\u001b[39m.\u001b[39m_IterableDataset_len_called \u001b[39mis\u001b[39;00m \u001b[39mnot\u001b[39;00m \u001b[39mNone\u001b[39;00m \u001b[39mand\u001b[39;00m \\\n\u001b[1;32m    632\u001b[0m         \u001b[39mself\u001b[39m\u001b[39m.\u001b[39m_num_yielded \u001b[39m>\u001b[39m \u001b[39mself\u001b[39m\u001b[39m.\u001b[39m_IterableDataset_len_called:\n",
      "File \u001b[0;32m/home/workspace/notion-auto-archive/venv/lib/python3.9/site-packages/torch/utils/data/dataloader.py:671\u001b[0m, in \u001b[0;36m_SingleProcessDataLoaderIter._next_data\u001b[0;34m(self)\u001b[0m\n\u001b[1;32m    669\u001b[0m \u001b[39mdef\u001b[39;00m \u001b[39m_next_data\u001b[39m(\u001b[39mself\u001b[39m):\n\u001b[1;32m    670\u001b[0m     index \u001b[39m=\u001b[39m \u001b[39mself\u001b[39m\u001b[39m.\u001b[39m_next_index()  \u001b[39m# may raise StopIteration\u001b[39;00m\n\u001b[0;32m--> 671\u001b[0m     data \u001b[39m=\u001b[39m \u001b[39mself\u001b[39;49m\u001b[39m.\u001b[39;49m_dataset_fetcher\u001b[39m.\u001b[39;49mfetch(index)  \u001b[39m# may raise StopIteration\u001b[39;00m\n\u001b[1;32m    672\u001b[0m     \u001b[39mif\u001b[39;00m \u001b[39mself\u001b[39m\u001b[39m.\u001b[39m_pin_memory:\n\u001b[1;32m    673\u001b[0m         data \u001b[39m=\u001b[39m _utils\u001b[39m.\u001b[39mpin_memory\u001b[39m.\u001b[39mpin_memory(data, \u001b[39mself\u001b[39m\u001b[39m.\u001b[39m_pin_memory_device)\n",
      "File \u001b[0;32m/home/workspace/notion-auto-archive/venv/lib/python3.9/site-packages/torch/utils/data/_utils/fetch.py:61\u001b[0m, in \u001b[0;36m_MapDatasetFetcher.fetch\u001b[0;34m(self, possibly_batched_index)\u001b[0m\n\u001b[1;32m     59\u001b[0m \u001b[39melse\u001b[39;00m:\n\u001b[1;32m     60\u001b[0m     data \u001b[39m=\u001b[39m \u001b[39mself\u001b[39m\u001b[39m.\u001b[39mdataset[possibly_batched_index]\n\u001b[0;32m---> 61\u001b[0m \u001b[39mreturn\u001b[39;00m \u001b[39mself\u001b[39;49m\u001b[39m.\u001b[39;49mcollate_fn(data)\n",
      "Cell \u001b[0;32mIn[15], line 17\u001b[0m, in \u001b[0;36mArticleCollator.__call__\u001b[0;34m(self, examples)\u001b[0m\n\u001b[1;32m      7\u001b[0m examples \u001b[39m=\u001b[39m {\n\u001b[1;32m      8\u001b[0m     \u001b[39m'\u001b[39m\u001b[39mtitle\u001b[39m\u001b[39m'\u001b[39m: \u001b[39mlist\u001b[39m(\u001b[39mmap\u001b[39m(\u001b[39mlambda\u001b[39;00m x: x[\u001b[39m'\u001b[39m\u001b[39mtitle\u001b[39m\u001b[39m'\u001b[39m], examples)),\n\u001b[1;32m      9\u001b[0m     \u001b[39m'\u001b[39m\u001b[39mcategory_id\u001b[39m\u001b[39m'\u001b[39m: \u001b[39mlist\u001b[39m(\u001b[39mmap\u001b[39m(\u001b[39mlambda\u001b[39;00m x: x[\u001b[39m'\u001b[39m\u001b[39mcategory_id\u001b[39m\u001b[39m'\u001b[39m], examples))\n\u001b[1;32m     10\u001b[0m }\n\u001b[1;32m     12\u001b[0m encodings \u001b[39m=\u001b[39m \u001b[39mself\u001b[39m\u001b[39m.\u001b[39mtokenizer(examples[\u001b[39m'\u001b[39m\u001b[39mtitle\u001b[39m\u001b[39m'\u001b[39m],\n\u001b[1;32m     13\u001b[0m                            padding\u001b[39m=\u001b[39m\u001b[39mTrue\u001b[39;00m,\n\u001b[1;32m     14\u001b[0m                            truncation\u001b[39m=\u001b[39m\u001b[39mTrue\u001b[39;00m,\n\u001b[1;32m     15\u001b[0m                            max_length\u001b[39m=\u001b[39m\u001b[39mself\u001b[39m\u001b[39m.\u001b[39mmax_length,\n\u001b[1;32m     16\u001b[0m                            return_tensors\u001b[39m=\u001b[39m\u001b[39m'\u001b[39m\u001b[39mpt\u001b[39m\u001b[39m'\u001b[39m)\n\u001b[0;32m---> 17\u001b[0m encodings[\u001b[39m'\u001b[39m\u001b[39mcategory_id\u001b[39m\u001b[39m'\u001b[39m] \u001b[39m=\u001b[39m torch\u001b[39m.\u001b[39;49mtensor(examples[\u001b[39m'\u001b[39;49m\u001b[39mcategory_id\u001b[39;49m\u001b[39m'\u001b[39;49m])\n\u001b[1;32m     18\u001b[0m \u001b[39mreturn\u001b[39;00m encodings\n",
      "\u001b[0;31mValueError\u001b[0m: expected sequence of length 4 at dim 1 (got 5)"
     ]
    }
   ],
   "source": [
    "loader = DataLoader(\n",
    "    train_dataset,\n",
    "    collate_fn=article_collator,\n",
    "    batch_size=8,\n",
    "    shuffle=True,\n",
    ")\n",
    "\n",
    "batch = next(iter(loader))\n",
    "\n",
    "for k, v in batch.items():\n",
    "    print(k, v.shape)"
   ]
  },
  {
   "cell_type": "code",
   "execution_count": null,
   "metadata": {},
   "outputs": [],
   "source": []
  }
 ],
 "metadata": {
  "kernelspec": {
   "display_name": "venv",
   "language": "python",
   "name": "python3"
  },
  "language_info": {
   "codemirror_mode": {
    "name": "ipython",
    "version": 3
   },
   "file_extension": ".py",
   "mimetype": "text/x-python",
   "name": "python",
   "nbconvert_exporter": "python",
   "pygments_lexer": "ipython3",
   "version": "3.9.16"
  },
  "orig_nbformat": 4,
  "vscode": {
   "interpreter": {
    "hash": "f96dea0ebdafa197f5aedddabb1bea429d3b0f4522770de9224a4846edf8913a"
   }
  }
 },
 "nbformat": 4,
 "nbformat_minor": 2
}

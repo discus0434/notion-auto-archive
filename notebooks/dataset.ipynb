{
 "cells": [
  {
   "cell_type": "code",
   "execution_count": 1,
   "metadata": {},
   "outputs": [],
   "source": [
    "import sys\n",
    "sys.path.append('..')"
   ]
  },
  {
   "cell_type": "code",
   "execution_count": 2,
   "metadata": {},
   "outputs": [
    {
     "name": "stderr",
     "output_type": "stream",
     "text": [
      "/home/workspace/notion-auto-archive/venv/lib/python3.9/site-packages/tqdm/auto.py:22: TqdmWarning: IProgress not found. Please update jupyter and ipywidgets. See https://ipywidgets.readthedocs.io/en/stable/user_install.html\n",
      "  from .autonotebook import tqdm as notebook_tqdm\n"
     ]
    }
   ],
   "source": [
    "import json\n",
    "from pathlib import Path\n",
    "from collections import Counter\n",
    "\n",
    "from tqdm import tqdm\n",
    "import pandas as pd\n",
    "import matplotlib.pyplot as plt\n",
    "from sklearn.model_selection import train_test_split\n",
    "import torch\n",
    "from torch.utils.data import Dataset, DataLoader\n",
    "from transformers import AutoTokenizer\n",
    "import datasets\n",
    "\n",
    "from utils.candidate_labels import CANDIDATE_LABELS"
   ]
  },
  {
   "cell_type": "code",
   "execution_count": 3,
   "metadata": {},
   "outputs": [],
   "source": [
    "ROOT_DIR = Path.cwd().parent\n",
    "\n",
    "df_qiita = pd.read_json(ROOT_DIR / \"data/qiita.json\")\n",
    "df_zenn = pd.read_json(ROOT_DIR / \"data/zenn.json\")\n",
    "\n",
    "df_raw = pd.concat([df_qiita, df_zenn], axis=0)"
   ]
  },
  {
   "cell_type": "code",
   "execution_count": 16,
   "metadata": {},
   "outputs": [],
   "source": [
    "hypothesis_template = \"This text is about {}.\"\n",
    "\n",
    "df = pd.DataFrame(\n",
    "    columns=[\"premise\", \"hypothesis\", \"label\"],\n",
    ")\n",
    "idx = 0\n",
    "for row in df_raw.itertuples():\n",
    "    \n",
    "    if len(row.cleansed_content) > 1024:\n",
    "        # truncate the sentence to approx. 1024 characters\n",
    "        # end with a period or \"#\", which means next section of markdown sentences.\n",
    "        try:\n",
    "            if \"#\" in row.cleansed_content[512:1024]:\n",
    "                cleansed_content = row.cleansed_content[:1024].rsplit(\"#\", 1)[0]\n",
    "            elif \"。\" in row.cleansed_content[512:1024]:\n",
    "                cleansed_content = row.cleansed_content[:1024].rsplit(\"。\", 1)[0] + \"。\"\n",
    "            else:\n",
    "                cleansed_content = row.cleansed_content[:1024].rsplit(\".\", 1)[0] + \".\"\n",
    "        except Exception:\n",
    "            cleansed_content = row.cleansed_content[:1024]\n",
    "    else:\n",
    "        cleansed_content = row.cleansed_content\n",
    "        \n",
    "    if not cleansed_content:\n",
    "        continue\n",
    "    \n",
    "    categories = []\n",
    "    for tag in row.tags:\n",
    "        if tag in CANDIDATE_LABELS.keys():\n",
    "            categories.append(CANDIDATE_LABELS[tag])\n",
    "    \n",
    "    for category in categories:\n",
    "        df.at[idx, \"premise\"] = cleansed_content\n",
    "        df.at[idx, \"hypothesis\"] = hypothesis_template.format(category)\n",
    "        df.at[idx, \"label\"] = 0\n",
    "        idx += 1"
   ]
  },
  {
   "cell_type": "code",
   "execution_count": 17,
   "metadata": {},
   "outputs": [],
   "source": [
    "le = []\n",
    "for row in df.iterrows():\n",
    "    le.append(len(row[1][\"premise\"]))"
   ]
  },
  {
   "cell_type": "code",
   "execution_count": 18,
   "metadata": {},
   "outputs": [
    {
     "data": {
      "image/png": "[encoded data removed]",
      "text/plain": [
       "<Figure size 640x480 with 1 Axes>"
      ]
     },
     "metadata": {},
     "output_type": "display_data"
    }
   ],
   "source": [
    "plt.hist(le, bins=50)\n",
    "plt.show()"
   ]
  },
  {
   "cell_type": "code",
   "execution_count": 19,
   "metadata": {},
   "outputs": [],
   "source": [
    "train_df, test_df = train_test_split(df, train_size=0.9)"
   ]
  },
  {
   "cell_type": "code",
   "execution_count": 20,
   "metadata": {},
   "outputs": [
    {
     "name": "stderr",
     "output_type": "stream",
     "text": [
      "                                                                                               \r"
     ]
    }
   ],
   "source": [
    "datasets.Dataset.from_pandas(train_df).save_to_disk(ROOT_DIR / \"data/train/jp-engineer-articles-dataset\")\n",
    "datasets.Dataset.from_pandas(test_df).save_to_disk(ROOT_DIR / \"data/test/jp-engineer-articles-dataset\")"
   ]
  },
  {
   "cell_type": "code",
   "execution_count": null,
   "metadata": {},
   "outputs": [],
   "source": []
  }
 ],
 "metadata": {
  "kernelspec": {
   "display_name": "venv",
   "language": "python",
   "name": "python3"
  },
  "language_info": {
   "codemirror_mode": {
    "name": "ipython",
    "version": 3
   },
   "file_extension": ".py",
   "mimetype": "text/x-python",
   "name": "python",
   "nbconvert_exporter": "python",
   "pygments_lexer": "ipython3",
   "version": "3.9.16"
  },
  "orig_nbformat": 4,
  "vscode": {
   "interpreter": {
    "hash": "f96dea0ebdafa197f5aedddabb1bea429d3b0f4522770de9224a4846edf8913a"
   }
  }
 },
 "nbformat": 4,
 "nbformat_minor": 2
}

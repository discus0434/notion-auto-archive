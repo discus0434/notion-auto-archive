{
 "cells": [
  {
   "cell_type": "code",
   "execution_count": null,
   "metadata": {},
   "outputs": [],
   "source": [
    "import os\n",
    "from pathlib import Path\n",
    "import subprocess\n",
    "import json\n",
    "\n",
    "import pandas as pd\n",
    "from notion_client import Client\n",
    "from transformers import pipeline\n",
    "\n",
    "from config import (\n",
    "    CANDIDATE_LABELS,\n",
    "    DATABASE_ID,\n",
    "    NOTION_ACCESS_TOKEN,\n",
    "    GYAZO_ACCESS_TOKEN,\n",
    "    CACHE_PATH,\n",
    "    ARXIV_CATEGORIES,\n",
    ")\n",
    "from lib import get_web_content, label_text, post_to_notion"
   ]
  },
  {
   "cell_type": "code",
   "execution_count": null,
   "metadata": {},
   "outputs": [],
   "source": [
    "URL = \"https://arxiv.org/abs/2301.02654\""
   ]
  },
  {
   "cell_type": "code",
   "execution_count": null,
   "metadata": {},
   "outputs": [],
   "source": [
    "notion = Client(auth=NOTION_ACCESS_TOKEN)"
   ]
  },
  {
   "cell_type": "code",
   "execution_count": null,
   "metadata": {},
   "outputs": [],
   "source": [
    "p = get_web_content(url=URL, cache_path=CACHE_PATH, arxiv_categories=ARXIV_CATEGORIES)"
   ]
  },
  {
   "cell_type": "code",
   "execution_count": null,
   "metadata": {},
   "outputs": [],
   "source": [
    "from bs4 import BeautifulSoup"
   ]
  },
  {
   "cell_type": "code",
   "execution_count": null,
   "metadata": {},
   "outputs": [],
   "source": [
    "import re\n",
    "from pprint import pprint"
   ]
  },
  {
   "cell_type": "code",
   "execution_count": null,
   "metadata": {},
   "outputs": [],
   "source": [
    "# html_content = re.sub(r\"\\(<a.*?</a>\\)\", \" \", p.html_content)\n",
    "\n",
    "# try:\n",
    "#     html_content = html_content.rsplit('<section id=\"bib\"')[0]\n",
    "# except Exception:\n",
    "#     pass\n",
    "\n",
    "# html_content = '<section id=\"S1\"' + html_content.split('<section id=\"S1\"')[1]\n",
    "\n",
    "# soup = BeautifulSoup(p.html_content, \"html.parser\")\n",
    "    \n",
    "    \n",
    "# for error_span in soup.find_all(\"span\", class_=\"ltx_ERROR\"):\n",
    "#     error_span.decompose()\n",
    "\n",
    "# for section in soup.find_all(\"section\"):\n",
    "#     paragraphs = []\n",
    "#     for para in section.find_all(\"div\", class_=\"ltx_para\", recursive=True):\n",
    "#         paragraphs.append(para.text)\n",
    "#         para.decompose()\n",
    "#     new_para = soup.new_tag(\"p\", attrs={\"class\": \"ltx_para\"})\n",
    "#     new_para.string = \"\\n\".join(paragraphs)\n",
    "#     section.append(new_para)\n",
    "    \n",
    "# for sub_section in soup.find_all(\"section\", class_=\"ltx_subsection\"):\n",
    "#     sub_section.decompose()"
   ]
  },
  {
   "cell_type": "code",
   "execution_count": null,
   "metadata": {},
   "outputs": [],
   "source": [
    "import arxiv"
   ]
  },
  {
   "cell_type": "code",
   "execution_count": null,
   "metadata": {},
   "outputs": [],
   "source": [
    "soup = BeautifulSoup(p.html_content, \"html.parser\")\n",
    "\n",
    "# get only figures\n",
    "figures = []\n",
    "for fig in soup.find_all(\"figure\"):\n",
    "    if not len(fig.find_all(\"td\")) > 0:\n",
    "        figures.append(fig)"
   ]
  },
  {
   "cell_type": "code",
   "execution_count": null,
   "metadata": {},
   "outputs": [],
   "source": [
    "res = next(arxiv.Search(id_list=[URL.split(\"/\")[-1]]).results()).summary"
   ]
  },
  {
   "cell_type": "code",
   "execution_count": null,
   "metadata": {},
   "outputs": [],
   "source": [
    "res"
   ]
  },
  {
   "cell_type": "code",
   "execution_count": null,
   "metadata": {},
   "outputs": [],
   "source": [
    "html = f\"\"\"\n",
    "<html>\n",
    "    <body>\n",
    "        <h2>Abstract</h2>\n",
    "            <p>{res}</p>\n",
    "        <h2>Figures</h2>\n",
    "        {''.join(list(map(lambda x: str(x), figures)))}\n",
    "    </body>\n",
    "</html>\n",
    "\"\"\""
   ]
  },
  {
   "cell_type": "code",
   "execution_count": null,
   "metadata": {},
   "outputs": [],
   "source": [
    "fugu_translator = pipeline('translation', model='staka/fugumt-en-ja')"
   ]
  },
  {
   "cell_type": "code",
   "execution_count": null,
   "metadata": {},
   "outputs": [],
   "source": [
    "for para in soup.find_all(\"p\", class_=\"ltx_para\", recursive=True):\n",
    "    para.string = fugu_translator(para.text)[0]['translation_text']"
   ]
  },
  {
   "cell_type": "code",
   "execution_count": null,
   "metadata": {},
   "outputs": [],
   "source": [
    "with open(\"/home/workspace/notion-auto-archive/content/i.html\", \"w\") as f:\n",
    "    f.write(html)"
   ]
  },
  {
   "cell_type": "code",
   "execution_count": null,
   "metadata": {},
   "outputs": [],
   "source": [
    "if p.tags is None:\n",
    "    p.tags = label_text(\n",
    "        text=p.cleansed_content,\n",
    "        candidate_labels=CANDIDATE_LABELS,\n",
    "        threshold=0.9,\n",
    "    )"
   ]
  },
  {
   "cell_type": "code",
   "execution_count": null,
   "metadata": {},
   "outputs": [],
   "source": [
    "p.tags"
   ]
  },
  {
   "cell_type": "code",
   "execution_count": null,
   "metadata": {},
   "outputs": [],
   "source": [
    "# import pickle\n",
    "# pickle.dump(p, open(\"p.pkl\", \"wb\"))\n",
    "\n",
    "# import pickle\n",
    "# p = pickle.loads(open(\"p.pkl\", \"rb\").read())"
   ]
  },
  {
   "cell_type": "code",
   "execution_count": null,
   "metadata": {},
   "outputs": [],
   "source": [
    "post_to_notion(\n",
    "    notion_access_token=NOTION_ACCESS_TOKEN,\n",
    "    gyazo_access_token=GYAZO_ACCESS_TOKEN,\n",
    "    database_id=DATABASE_ID,\n",
    "    processed_content=p,\n",
    ")"
   ]
  }
 ],
 "metadata": {
  "kernelspec": {
   "display_name": "venv",
   "language": "python",
   "name": "python3"
  },
  "language_info": {
   "codemirror_mode": {
    "name": "ipython",
    "version": 3
   },
   "file_extension": ".py",
   "mimetype": "text/x-python",
   "name": "python",
   "nbconvert_exporter": "python",
   "pygments_lexer": "ipython3",
   "version": "3.9.16"
  },
  "orig_nbformat": 4,
  "vscode": {
   "interpreter": {
    "hash": "f96dea0ebdafa197f5aedddabb1bea429d3b0f4522770de9224a4846edf8913a"
   }
  }
 },
 "nbformat": 4,
 "nbformat_minor": 2
}

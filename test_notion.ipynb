{
 "cells": [
  {
   "cell_type": "code",
   "execution_count": null,
   "metadata": {},
   "outputs": [],
   "source": [
    "import sys\n",
    "sys.path.append('..')"
   ]
  },
  {
   "cell_type": "code",
   "execution_count": null,
   "metadata": {},
   "outputs": [],
   "source": [
    "import os\n",
    "from pathlib import Path\n",
    "import subprocess\n",
    "import json\n",
    "\n",
    "from notion_client import Client\n",
    "\n",
    "from config import CANDIDATE_LABELS, DATABASE_ID, JAVASCRIPT_PATH, JSON_PATH, NOTION_ACCESS_TOKEN\n",
    "from lib import get_web_content, label_text, markdown_to_notion, post_to_notion"
   ]
  },
  {
   "cell_type": "code",
   "execution_count": null,
   "metadata": {},
   "outputs": [],
   "source": [
    "URL = \"https://qiita.com/FukuharaYohei/items/92795107032c8c0bfd19\""
   ]
  },
  {
   "cell_type": "code",
   "execution_count": null,
   "metadata": {},
   "outputs": [],
   "source": [
    "notion = Client(auth=NOTION_ACCESS_TOKEN)"
   ]
  },
  {
   "cell_type": "code",
   "execution_count": null,
   "metadata": {},
   "outputs": [],
   "source": [
    "p = get_web_content(URL)"
   ]
  },
  {
   "cell_type": "code",
   "execution_count": null,
   "metadata": {},
   "outputs": [],
   "source": [
    "notioned = markdown_to_notion(\n",
    "    javascript_path=JAVASCRIPT_PATH, \n",
    "    markdown_content=p.markdown_content,\n",
    "    json_path=JSON_PATH,\n",
    ")"
   ]
  },
  {
   "cell_type": "code",
   "execution_count": null,
   "metadata": {},
   "outputs": [],
   "source": [
    "tags = label_text(p.cleansed_content, CANDIDATE_LABELS, 0.45)"
   ]
  },
  {
   "cell_type": "code",
   "execution_count": null,
   "metadata": {},
   "outputs": [],
   "source": [
    "post_to_notion(\n",
    "    access_token=NOTION_ACCESS_TOKEN,\n",
    "    database_id=DATABASE_ID,\n",
    "    processed_content=p,\n",
    "    tags=tags,\n",
    "    url=URL,\n",
    "    notioned_content=notioned,\n",
    ")"
   ]
  }
 ],
 "metadata": {
  "kernelspec": {
   "display_name": "venv",
   "language": "python",
   "name": "python3"
  },
  "language_info": {
   "codemirror_mode": {
    "name": "ipython",
    "version": 3
   },
   "file_extension": ".py",
   "mimetype": "text/x-python",
   "name": "python",
   "nbconvert_exporter": "python",
   "pygments_lexer": "ipython3",
   "version": "3.9.16"
  },
  "orig_nbformat": 4,
  "vscode": {
   "interpreter": {
    "hash": "2e03f9a8d6208d67f7568f43bcca1c04b428645b35fbe7560096ab1a49dfd7db"
   }
  }
 },
 "nbformat": 4,
 "nbformat_minor": 2
}

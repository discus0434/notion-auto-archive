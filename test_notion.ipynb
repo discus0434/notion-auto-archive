{
 "cells": [
  {
   "cell_type": "code",
   "execution_count": null,
   "metadata": {},
   "outputs": [],
   "source": [
    "import os\n",
    "from pathlib import Path\n",
    "import subprocess\n",
    "import json\n",
    "\n",
    "import pandas as pd\n",
    "from notion_client import Client\n",
    "from transformers import pipeline\n",
    "\n",
    "from config import (\n",
    "    CANDIDATE_LABELS,\n",
    "    DATABASE_ID,\n",
    "    NOTION_ACCESS_TOKEN,\n",
    "    GYAZO_ACCESS_TOKEN,\n",
    "    CACHE_PATH,\n",
    "    ARXIV_CATEGORIES,\n",
    ")\n",
    "from lib import get_web_content, label_text, post_to_notion"
   ]
  },
  {
   "cell_type": "code",
   "execution_count": null,
   "metadata": {},
   "outputs": [],
   "source": [
    "URL = \"https://qiita.com/m__k/items/2c4e476d7ac81a3a44af\""
   ]
  },
  {
   "cell_type": "code",
   "execution_count": null,
   "metadata": {},
   "outputs": [],
   "source": [
    "notion = Client(auth=NOTION_ACCESS_TOKEN)"
   ]
  },
  {
   "cell_type": "code",
   "execution_count": null,
   "metadata": {},
   "outputs": [],
   "source": [
    "p = get_web_content(url=URL, cache_path=CACHE_PATH, arxiv_categories=ARXIV_CATEGORIES)"
   ]
  },
  {
   "cell_type": "code",
   "execution_count": null,
   "metadata": {},
   "outputs": [],
   "source": [
    "if p.tags is None:\n",
    "    p.tags = label_text(\n",
    "        text=p.cleansed_content,\n",
    "        candidate_labels=CANDIDATE_LABELS,\n",
    "        threshold=0.9,\n",
    "    )"
   ]
  },
  {
   "cell_type": "code",
   "execution_count": null,
   "metadata": {},
   "outputs": [],
   "source": [
    "p.tags"
   ]
  },
  {
   "cell_type": "code",
   "execution_count": null,
   "metadata": {},
   "outputs": [],
   "source": [
    "# import pickle\n",
    "# pickle.dump(p, open(\"p.pkl\", \"wb\"))\n",
    "\n",
    "# import pickle\n",
    "# p = pickle.loads(open(\"p.pkl\", \"rb\").read())"
   ]
  },
  {
   "cell_type": "code",
   "execution_count": null,
   "metadata": {},
   "outputs": [],
   "source": [
    "post_to_notion(\n",
    "    notion_access_token=NOTION_ACCESS_TOKEN,\n",
    "    gyazo_access_token=GYAZO_ACCESS_TOKEN,\n",
    "    database_id=DATABASE_ID,\n",
    "    processed_content=p,\n",
    ")"
   ]
  }
 ],
 "metadata": {
  "kernelspec": {
   "display_name": "venv",
   "language": "python",
   "name": "python3"
  },
  "language_info": {
   "codemirror_mode": {
    "name": "ipython",
    "version": 3
   },
   "file_extension": ".py",
   "mimetype": "text/x-python",
   "name": "python",
   "nbconvert_exporter": "python",
   "pygments_lexer": "ipython3",
   "version": "3.9.16 (main, Dec  7 2022, 01:11:58) \n[GCC 7.5.0]"
  },
  "orig_nbformat": 4,
  "vscode": {
   "interpreter": {
    "hash": "f96dea0ebdafa197f5aedddabb1bea429d3b0f4522770de9224a4846edf8913a"
   }
  }
 },
 "nbformat": 4,
 "nbformat_minor": 2
}
